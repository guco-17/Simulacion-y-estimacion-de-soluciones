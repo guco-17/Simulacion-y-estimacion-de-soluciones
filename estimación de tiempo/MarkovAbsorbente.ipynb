{
 "cells": [
  {
   "cell_type": "code",
   "execution_count": 50,
   "id": "8e21689b",
   "metadata": {},
   "outputs": [],
   "source": [
    "import numpy as np"
   ]
  },
  {
   "cell_type": "code",
   "execution_count": 51,
   "id": "ec44d103",
   "metadata": {},
   "outputs": [],
   "source": [
    "#MATRIZ DE TRANSICIÓN CON ESTADO ABSORBENTE \n",
    "# P = np.array([\n",
    "#     [0.15, 0.7, 0.1, 0.05],\n",
    "#     [0.3, 0.5, 0.1, 0.1],\n",
    "#     [0.01, 0.84, 0.1, 0.05], \n",
    "#     [0.00, 0.00, 0.00, 1]])\n",
    "\n",
    "P = np.array([\n",
    "    [0.0, 0.30, 0.1, 0.60],\n",
    "    [0.0, 0.15, 0.1, 0.75],\n",
    "    [0.89, 0.01, 0.1, 0.0], \n",
    "    [0.00, 0.00, 0.00, 1]])"
   ]
  },
  {
   "cell_type": "code",
   "execution_count": 52,
   "id": "227b5e4e",
   "metadata": {},
   "outputs": [],
   "source": [
    "Q = P[:3, :3]\n",
    "R = P[:3, 3:]\n",
    "\n",
    "#MATRIZ IDENTIDAD\n",
    "I = np.eye(Q.shape[0])\n",
    "\n",
    "#MATRIZ FUNDAMENTAL\n",
    "N = np.linalg.inv(I - Q)"
   ]
  },
  {
   "cell_type": "code",
   "execution_count": 53,
   "id": "d6667cfa",
   "metadata": {},
   "outputs": [
    {
     "data": {
      "text/plain": [
       "array([27.43595557, 30.8138744 , 61.91793244])"
      ]
     },
     "execution_count": 53,
     "metadata": {},
     "output_type": "execute_result"
    }
   ],
   "source": [
    "#VECTOR DE ESPECTATIVAS\n",
    "tiempo = np.array([12, 20, 31])\n",
    "\n",
    "expected_times = N @ tiempo\n",
    "expected_times"
   ]
  },
  {
   "cell_type": "code",
   "execution_count": 54,
   "id": "104566b1",
   "metadata": {},
   "outputs": [
    {
     "name": "stdout",
     "output_type": "stream",
     "text": [
      "Tiempo esperado en el estado CC es 27.435955565631374 unidades de tiempo\n",
      "Tiempo esperado en el estado CF es 30.81387440489685 unidades de tiempo\n",
      "Tiempo esperado en el estado CMC es 61.91793244162321 unidades de tiempo\n"
     ]
    }
   ],
   "source": [
    "#MOSTRAR RESULTADOS\n",
    "estados = ['CC', 'CF', 'CMC']\n",
    "for estado, tiempo in zip(estados, expected_times):\n",
    "    print(f\"Tiempo esperado en el estado {estado} es {tiempo} unidades de tiempo\")"
   ]
  },
  {
   "cell_type": "code",
   "execution_count": 55,
   "id": "8588524c",
   "metadata": {},
   "outputs": [],
   "source": [
    "average_time = np.mean(expected_times)\n",
    "\n",
    "minutos = average_time * 5498"
   ]
  },
  {
   "cell_type": "code",
   "execution_count": 56,
   "id": "899add76",
   "metadata": {},
   "outputs": [
    {
     "data": {
      "text/plain": [
       "np.float64(3670.457543011159)"
      ]
     },
     "execution_count": 56,
     "metadata": {},
     "output_type": "execute_result"
    }
   ],
   "source": [
    "horas = minutos/60\n",
    "horas"
   ]
  },
  {
   "cell_type": "code",
   "execution_count": 57,
   "id": "b0b73a92",
   "metadata": {},
   "outputs": [
    {
     "data": {
      "text/plain": [
       "np.float64(524.3510775730227)"
      ]
     },
     "execution_count": 57,
     "metadata": {},
     "output_type": "execute_result"
    }
   ],
   "source": [
    "dias = horas/7\n",
    "dias"
   ]
  },
  {
   "cell_type": "code",
   "execution_count": 58,
   "id": "745ff0b5",
   "metadata": {},
   "outputs": [
    {
     "data": {
      "text/plain": [
       "np.float64(104.87021551460455)"
      ]
     },
     "execution_count": 58,
     "metadata": {},
     "output_type": "execute_result"
    }
   ],
   "source": [
    "semanas = dias / 5\n",
    "semanas"
   ]
  },
  {
   "cell_type": "code",
   "execution_count": 59,
   "id": "5bbfc091",
   "metadata": {},
   "outputs": [
    {
     "data": {
      "text/plain": [
       "np.float64(26.217553878651138)"
      ]
     },
     "execution_count": 59,
     "metadata": {},
     "output_type": "execute_result"
    }
   ],
   "source": [
    "meses = semanas /4\n",
    "meses"
   ]
  },
  {
   "cell_type": "code",
   "execution_count": 60,
   "id": "feb256fa",
   "metadata": {},
   "outputs": [
    {
     "data": {
      "text/plain": [
       "np.float64(2.1847961565542615)"
      ]
     },
     "execution_count": 60,
     "metadata": {},
     "output_type": "execute_result"
    }
   ],
   "source": [
    "años = meses/12\n",
    "años"
   ]
  }
 ],
 "metadata": {
  "kernelspec": {
   "display_name": "Python 3",
   "language": "python",
   "name": "python3"
  },
  "language_info": {
   "codemirror_mode": {
    "name": "ipython",
    "version": 3
   },
   "file_extension": ".py",
   "mimetype": "text/x-python",
   "name": "python",
   "nbconvert_exporter": "python",
   "pygments_lexer": "ipython3",
   "version": "3.10.11"
  }
 },
 "nbformat": 4,
 "nbformat_minor": 5
}
